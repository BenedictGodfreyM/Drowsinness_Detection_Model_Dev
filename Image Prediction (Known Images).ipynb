{
 "cells": [
  {
   "cell_type": "code",
   "execution_count": 19,
   "metadata": {},
   "outputs": [],
   "source": [
    "import numpy as np\n",
    "import tensorflow as tf\n",
    "\n",
    "from tensorflow import keras\n",
    "from tensorflow.keras import layers"
   ]
  },
  {
   "cell_type": "code",
   "execution_count": 20,
   "metadata": {},
   "outputs": [
    {
     "name": "stderr",
     "output_type": "stream",
     "text": [
      "WARNING:absl:Compiled the loaded model, but the compiled metrics have yet to be built. `model.compile_metrics` will be empty until you train or evaluate the model.\n"
     ]
    }
   ],
   "source": [
    "img_height = 224\n",
    "img_width = 224\n",
    "class_names = ['Closed_Eyes','Open_Eyes']\n",
    "model = tf.keras.models.load_model(\"Models/Image_Classification_Model_epochs-4_epochssteps-200_valsteps-20_dataset-84898.h5\")"
   ]
  },
  {
   "cell_type": "code",
   "execution_count": 21,
   "metadata": {},
   "outputs": [
    {
     "name": "stdout",
     "output_type": "stream",
     "text": [
      "\u001b[1m1/1\u001b[0m \u001b[32m━━━━━━━━━━━━━━━━━━━━\u001b[0m\u001b[37m\u001b[0m \u001b[1m0s\u001b[0m 123ms/step\n",
      "The Prediction value is: [[-2.6911654  3.2116213]], and Score value is: [0.00272438 0.99727565]\n",
      "This image most likely belongs to Open_Eyes with a 99.73 percent confidence.\n"
     ]
    }
   ],
   "source": [
    "img = tf.keras.utils.load_img(\"Dataset/Open_Eyes/s0001_01942_0_0_1_0_0_01.png\", target_size=(img_height, img_width))\n",
    "img_array = tf.keras.utils.img_to_array(img)\n",
    "img_array = tf.expand_dims(img_array, 0) # Create a batch\n",
    "\n",
    "predictions = model.predict(img_array)\n",
    "score = tf.nn.softmax(predictions[0])\n",
    "\n",
    "print(\"The Prediction value is: {}, and Score value is: {}\".format(predictions, score))\n",
    "\n",
    "print(\"This image most likely belongs to {} with a {:.2f} percent confidence.\".format(class_names[np.argmax(score)], 100 * np.max(score)))"
   ]
  }
 ],
 "metadata": {
  "kernelspec": {
   "display_name": "pyenv123",
   "language": "python",
   "name": "python3"
  },
  "language_info": {
   "codemirror_mode": {
    "name": "ipython",
    "version": 3
   },
   "file_extension": ".py",
   "mimetype": "text/x-python",
   "name": "python",
   "nbconvert_exporter": "python",
   "pygments_lexer": "ipython3",
   "version": "3.11.0"
  }
 },
 "nbformat": 4,
 "nbformat_minor": 2
}
